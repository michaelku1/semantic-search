{
 "cells": [
  {
   "cell_type": "markdown",
   "metadata": {},
   "source": [
    "## Use Faiss to create index"
   ]
  },
  {
   "cell_type": "markdown",
   "metadata": {},
   "source": [
    "- Faiss is a dense retreival method (NN search)\n",
    "<br>\n",
    "- Elastic search is a sparse retreival method (exact match retrieval)"
   ]
  },
  {
   "cell_type": "markdown",
   "metadata": {},
   "source": [
    "Index structures correspond to various trade-offs with respect to:\n",
    "<br> \n",
    "- search time\n",
    "- search quality\n",
    "- search used per index\n",
    "- training time\n",
    "- need for external data for unsupervised training"
   ]
  },
  {
   "cell_type": "code",
   "execution_count": null,
   "metadata": {},
   "outputs": [],
   "source": [
    "import os "
   ]
  },
  {
   "cell_type": "code",
   "execution_count": 1,
   "metadata": {},
   "outputs": [],
   "source": [
    "import pandas as pd\n",
    "import numpy as np\n",
    "import torch\n",
    "import faiss\n",
    "\n",
    "# s3-based object store file system (s3 by amazon)\n",
    "# import s3fs\n",
    "\n",
    "from sentence_transformers import SentenceTransformer\n",
    "# from vector_engine.utils import vector_search, id2details"
   ]
  },
  {
   "cell_type": "code",
   "execution_count": 2,
   "metadata": {},
   "outputs": [
    {
     "name": "stderr",
     "output_type": "stream",
     "text": [
      "/Users/chunghaoku/torchnlp/lib/python3.7/site-packages/IPython/core/interactiveshell.py:3441: DtypeWarning: Columns (0) have mixed types.Specify dtype option on import or set low_memory=False.\n",
      "  exec(code_obj, self.user_global_ns, self.user_ns)\n"
     ]
    }
   ],
   "source": [
    "# build vectors first\n",
    "df = pd.read_csv('../chat_logs.csv')"
   ]
  },
  {
   "cell_type": "code",
   "execution_count": 3,
   "metadata": {},
   "outputs": [],
   "source": [
    "retrieve_idx = [1,3,5,7,9]\n",
    "retrieval = list(df[df.log_id==idx]['line_message'] for idx in retrieve_idx)"
   ]
  },
  {
   "cell_type": "code",
   "execution_count": 4,
   "metadata": {},
   "outputs": [
    {
     "data": {
      "text/plain": [
       "[0    one of these days soon I need to see what geas...\n",
       " Name: line_message, dtype: object,\n",
       " 2    so its today or not this week\n",
       " Name: line_message, dtype: object,\n",
       " 4    oh, guess its not today\n",
       " Name: line_message, dtype: object,\n",
       " 6    I'm doing real work\n",
       " Name: line_message, dtype: object,\n",
       " 8    sigh\n",
       " Name: line_message, dtype: object]"
      ]
     },
     "execution_count": 4,
     "metadata": {},
     "output_type": "execute_result"
    }
   ],
   "source": [
    "# id==1,3,5,7,9\n",
    "retrieval"
   ]
  },
  {
   "cell_type": "code",
   "execution_count": 5,
   "metadata": {},
   "outputs": [
    {
     "data": {
      "text/html": [
       "<div>\n",
       "<style scoped>\n",
       "    .dataframe tbody tr th:only-of-type {\n",
       "        vertical-align: middle;\n",
       "    }\n",
       "\n",
       "    .dataframe tbody tr th {\n",
       "        vertical-align: top;\n",
       "    }\n",
       "\n",
       "    .dataframe thead th {\n",
       "        text-align: right;\n",
       "    }\n",
       "</style>\n",
       "<table border=\"1\" class=\"dataframe\">\n",
       "  <thead>\n",
       "    <tr style=\"text-align: right;\">\n",
       "      <th></th>\n",
       "      <th>log_id</th>\n",
       "      <th>line_count</th>\n",
       "      <th>user</th>\n",
       "      <th>line_message</th>\n",
       "      <th>date_of_log</th>\n",
       "    </tr>\n",
       "  </thead>\n",
       "  <tbody>\n",
       "    <tr>\n",
       "      <th>0</th>\n",
       "      <td>1</td>\n",
       "      <td>2.0</td>\n",
       "      <td>jcater</td>\n",
       "      <td>one of these days soon I need to see what geas...</td>\n",
       "      <td>2001-06-27</td>\n",
       "    </tr>\n",
       "    <tr>\n",
       "      <th>1</th>\n",
       "      <td>2</td>\n",
       "      <td>3.0</td>\n",
       "      <td>neilt</td>\n",
       "      <td>anyway i'm off to do real work for a couple of...</td>\n",
       "      <td>2001-06-27</td>\n",
       "    </tr>\n",
       "    <tr>\n",
       "      <th>2</th>\n",
       "      <td>3</td>\n",
       "      <td>4.0</td>\n",
       "      <td>neilt</td>\n",
       "      <td>so its today or not this week</td>\n",
       "      <td>2001-06-27</td>\n",
       "    </tr>\n",
       "    <tr>\n",
       "      <th>3</th>\n",
       "      <td>4</td>\n",
       "      <td>5.0</td>\n",
       "      <td>neilt</td>\n",
       "      <td>we are still waiting for a new forms/geas driver</td>\n",
       "      <td>2001-06-27</td>\n",
       "    </tr>\n",
       "    <tr>\n",
       "      <th>4</th>\n",
       "      <td>5</td>\n",
       "      <td>6.0</td>\n",
       "      <td>jcater</td>\n",
       "      <td>oh, guess its not today</td>\n",
       "      <td>2001-06-27</td>\n",
       "    </tr>\n",
       "  </tbody>\n",
       "</table>\n",
       "</div>"
      ],
      "text/plain": [
       "  log_id  line_count    user  \\\n",
       "0      1         2.0  jcater   \n",
       "1      2         3.0   neilt   \n",
       "2      3         4.0   neilt   \n",
       "3      4         5.0   neilt   \n",
       "4      5         6.0  jcater   \n",
       "\n",
       "                                        line_message date_of_log  \n",
       "0  one of these days soon I need to see what geas...  2001-06-27  \n",
       "1  anyway i'm off to do real work for a couple of...  2001-06-27  \n",
       "2                      so its today or not this week  2001-06-27  \n",
       "3   we are still waiting for a new forms/geas driver  2001-06-27  \n",
       "4                            oh, guess its not today  2001-06-27  "
      ]
     },
     "execution_count": 5,
     "metadata": {},
     "output_type": "execute_result"
    }
   ],
   "source": [
    "df.head()"
   ]
  },
  {
   "cell_type": "code",
   "execution_count": 6,
   "metadata": {},
   "outputs": [],
   "source": [
    "large = df['line_message'][:1000]"
   ]
  },
  {
   "cell_type": "code",
   "execution_count": 7,
   "metadata": {},
   "outputs": [
    {
     "data": {
      "text/plain": [
       "['one of these days soon I need to see what geas has to offer',\n",
       " \"anyway i'm off to do real work for a couple of days\",\n",
       " 'so its today or not this week',\n",
       " 'we are still waiting for a new forms/geas driver',\n",
       " 'oh, guess its not today',\n",
       " 'cant remember who volunteered for that',\n",
       " \"I'm doing real work\",\n",
       " 'are the geas docs pretty decent?',\n",
       " 'sigh',\n",
       " 'um, what it is and how to use it :)',\n",
       " 'its just a black box interface to objects',\n",
       " 'dont know what the docs say',\n",
       " 'but if you cant find what you are looking for, let me know and well create it',\n",
       " \"jamest_: what's wrong?\",\n",
       " 'this damn bot',\n",
       " \"what's it doing\",\n",
       " 'annoying me',\n",
       " 'nothing more, nothing less',\n",
       " 'and I should not even be messing with it',\n",
       " 'no real work today?',\n",
       " 'jamest_: if its related',\n",
       " 'jamest_: ash keeps kicking my ssh session off',\n",
       " 'if i am away for any time at all',\n",
       " \"but my heart fills with pity whenever I think of poor masta, hudled over his keyboard, shuddering cause he's missed out on 12 hours of goat references in IRC\",\n",
       " 'neilt: ssh has a timeout',\n",
       " 'how long',\n",
       " 'so i can set my anti timeout bot',\n",
       " \"i don't know\",\n",
       " \"as I don't have that problem w/ ash\",\n",
       " 'even logged on overnight',\n",
       " 'neilt: how long after you stop using it does it close?',\n",
       " \"that's probably the timeout\",\n",
       " \"iirc it's not set on ash\",\n",
       " 'but on your client',\n",
       " \"my ash connection at home's been idle for 37 hours 38 minutes\",\n",
       " '20 or 30 minutes',\n",
       " 'maybe its my new router',\n",
       " 'i am routing thru a linux box now instead of my other mac',\n",
       " 'later all',\n",
       " 'do any of you guys have a pointer to introductory info on EDI?  basic terminolgy, etc.  ',\n",
       " 'whatis.com might help',\n",
       " 'its pretty basic tho',\n",
       " 'congrats',\n",
       " \"chillywilly: we've told you before, even if you love windows, you shouldn't say so in public\",\n",
       " ':)',\n",
       " \"andrewm: come on now I didn't get banned because of that\",\n",
       " \"chillywilly: oh, the ops there love windows too?   well, it's ok, then....    :)\",\n",
       " 'I would never let that be none publicly :P',\n",
       " 's/none/known',\n",
       " 'chillywilly is a closet windows lover',\n",
       " \"chillywilly: you're admitting that you do secretly love windows?   :)\",\n",
       " 'sure and I have a bridge to sell you too',\n",
       " 'what kind?',\n",
       " \"you're not that much of a moron are you\",\n",
       " '?',\n",
       " '?',\n",
       " \"that's an expression you know to sya hey well if your that gullable I have something here I can sucker you into buying\",\n",
       " \"what's gullable, now?\",\n",
       " 'like a screen door submarine or some such thing',\n",
       " 'nevermind',\n",
       " 'over your head',\n",
       " 'is it a gullable-type bridge?',\n",
       " 'andrewm: did you get what I meant or do I really not make any sense?',\n",
       " \"chillywilly? who's the gullable one? :)\",\n",
       " 'chillywilly: yes, I undrestand you shame about being a windows lover   :)',\n",
       " \"you people just don't lay off do you?\",\n",
       " \"chillywilly: if you're going to kick me, I won't buy your bridge   :)\",\n",
       " \"what's the going bid on the bridge?\",\n",
       " 'you know you are really ruining the point of the joke you retard',\n",
       " 'how much for the hollow log',\n",
       " 'fuck off',\n",
       " \"that's not a nice thing to say\",\n",
       " 'sure it is',\n",
       " \"please refrain from kicking jcater in the future... if andrewm enjoys it, that's his business\",\n",
       " \"jcater: if I enjoy you being kicked, that's my business?   hmm, ok..   :)\",\n",
       " 'oops',\n",
       " 'gotta love the english language',\n",
       " 'ya know, \"soda\\'s\" and all',\n",
       " \"heh, well at least I don't sound like a friggin redneck\",\n",
       " 'hey you got some pop',\n",
       " '?',\n",
       " 'yeah I got a pop for you',\n",
       " 'chillywilly: why are you so pissy today?',\n",
       " 'that time of the month?',\n",
       " \"cause I feel like it, I don't need your permission do I\",\n",
       " \"aaaah, now here's my pepsi\",\n",
       " \"don't get your keyboard sticky again\",\n",
       " 'no kids get to drink by my keyboard anymore',\n",
       " 'or they will die',\n",
       " 'plus',\n",
       " 'installing this thing is a huge PITA',\n",
       " 'so I am a bit testy',\n",
       " 'installing your pepsi?',\n",
       " '[cw drink:[pepsi open]:quickly];',\n",
       " 'no scoop damnit',\n",
       " \"haven't you been listening\",\n",
       " '?',\n",
       " '[cw caffienated]; => 0',\n",
       " 'doh!',\n",
       " \"I gott grab like 50 CPAN modules, don't you just love perl :P\",\n",
       " 'No, perl is the tool of satan',\n",
       " 'indeed',\n",
       " 'you could always try PHP-Nuke',\n",
       " 'hides',\n",
       " 'PHP is holy',\n",
       " 'nope',\n",
       " \"it's license is form hell\",\n",
       " 'from',\n",
       " 'zend is also a tool fo satan',\n",
       " 's/fo/of',\n",
       " \"jamest: I'm sure he'ld be much happier using C#, the only true .NET(TM) language   :)\",\n",
       " 'of course',\n",
       " 'it gives me a hard on',\n",
       " 'C# was derived from ancient texts',\n",
       " 'it is the most powerful of all languages',\n",
       " '?',\n",
       " 'then you woke up?',\n",
       " 'yea',\n",
       " \"nickr: you mean it's incomprehensible nonsense?   :)\",\n",
       " 'Yes, since clearly anything incomprehensible is powerful',\n",
       " 'just look at Intercal',\n",
       " 'brb',\n",
       " 'bbl',\n",
       " 'ahhhhhhh',\n",
       " 'time to go home',\n",
       " 'damn, I always get here, then people start running away..    um, I do have daily showers, people..',\n",
       " ':)',\n",
       " \"that's debateable\",\n",
       " \"but that really doesn't help your personallity one bit andrewm\",\n",
       " 'lol',\n",
       " 'touche',\n",
       " \"touche'\",\n",
       " 'chillywilly: well, reinhard uses my arrival at work as an alarm clock telling him to go to bed..   jamest is running away now..',\n",
       " ':P',\n",
       " \"i'll be back andrewm, you're stuck with me tonight\",\n",
       " \"and I'll probably play w/ geas too\",\n",
       " \"so you're bound to suffer\",\n",
       " 'lol',\n",
       " 'l8r',\n",
       " \"ok, who's been beating up my baby??    (um, excess asserts can be bad - if a valid input to a function is treated as an error, then stuff stops working  :P)\",\n",
       " 'back',\n",
       " 'argh!    run away!   :)',\n",
       " 'geas has aplle os x docs',\n",
       " \"jamest: don't blame me  :)\",\n",
       " \"andrewm: what's security like in geas now?\",\n",
       " ':)',\n",
       " 'er, GEAS has security?    why did noone tell me?   :)',\n",
       " 'what does it do today?',\n",
       " 'and can I now make install it?',\n",
       " 'well, you _can_ require a username & password (although guestLogin() gets around that, really - but any user can do anything - and a moderately competant C programmer can write a client that just skips logging in, and can fake any username they like for their connection   :)',\n",
       " \"um, you can - I'm not sure that will help, though  :)   although really all you _should_ need to do is make sure the configuration is edited correctly\",\n",
       " 'jamest: to put it another way, GEAS provides _no_ security at all, currently',\n",
       " 'argh!',\n",
       " 'not to security',\n",
       " 'to install',\n",
       " \"jamest: I meant the 'make install' when I said you can do it, and should only need to edit the configuration (meaning geas.conf)\",\n",
       " 'no',\n",
       " 'i Mean',\n",
       " \"src/Makefile.am:33: variable `GLIB_LIBS' not defined\",\n",
       " 'hmm, er, ok, maybe something is broken  :)',\n",
       " 'during ./autogen.sh --with-postgresql',\n",
       " 'is there an FAQ?',\n",
       " \"er, that really doesn't sound good\",\n",
       " 'that looks like an automake problem',\n",
       " 'but it works for me  :)   (just tried a completely fresh CVS checkout)',\n",
       " 'gee',\n",
       " 'i feel better about it then',\n",
       " ':P{',\n",
       " 'er, :P',\n",
       " 'jamest: I\\'m glad you understand that \"it works for me\" is always a helpful answer   :)',\n",
       " \"it doesn't work for me\",\n",
       " 'it works for me is a prefectly acceptable answer when the me is me',\n",
       " \"more seriously, if getting everything out of CVS again doesn't help, you'll need to either  a) figure out what you did   or   b) figure out why automake is screwing up and fix it   :)\",\n",
       " \"I'm getting clean copy\",\n",
       " \"jamest: if this works, I'll beat you up for getting GEas dirty   :)\",\n",
       " 'so we going to see you after you leave treshna',\n",
       " '?',\n",
       " 'hello?',\n",
       " \"probably not very often  :)   if people have questions about my GEAS code (then you're questioning my families honour and will have to die) but before I kill you, I'll try and be helpful - otherwise, I'lls ee what I have time for   (but I won't have a linux box for a while, so won't be available to do more coding)\",\n",
       " \"that's ok, if you've got a windows box you could use the time to port to win32\",\n",
       " 'no!    I value my sanity!   (well, what I have left, anyway  :)',\n",
       " 'bash-2.05$ ./autogen.sh --with-postgresql',\n",
       " 'processing .',\n",
       " 'Running libtoolize...',\n",
       " \"You should add the contents of `/usr/share/aclocal/libtool.m4' to `aclocal.m4'.\",\n",
       " 'Running aclocal  ...',\n",
       " \"aclocal: configure.in: 19: macro `AM_PATH_ORBIT' not found in library\",\n",
       " 'Running autoheader...',\n",
       " 'Running automake --gnu  ...',\n",
       " \"automake: configure.in: installing `./install-sh'\",\n",
       " \"automake: configure.in: installing `./mkinstalldirs'\",\n",
       " \"automake: configure.in: installing `./missing'\",\n",
       " \"src/Makefile.am:33: variable `GLIB_LIBS' not defined\",\n",
       " 'Running ./configure --enable-maintainer-mode --enable-more-warnings --with-postgresql ...',\n",
       " 'creating cache ./config.cache',\n",
       " \"./configure: line 551: syntax error near unexpected token `AM_CONFIG_HEADER(config.h)'\",\n",
       " \"./configure: line 551: `AM_CONFIG_HEADER(config.h)'\",\n",
       " 'bash-2.05$ ',\n",
       " 'oh fun :)',\n",
       " \"jamest: ok, it's not GEAS's fault (it works for me).   that means it's your fault.    :)\",\n",
       " \"yip, it's your fault jamest\",\n",
       " 'any clues where to start?',\n",
       " 'orbit-dev package installed?',\n",
       " 'see?   even chillywilly agrees with me   :)',\n",
       " 'glib-dev package installed?',\n",
       " '(those are not the actual names for thek',\n",
       " 'them)',\n",
       " 'wow',\n",
       " 'wow what?',\n",
       " 'it has been a while since I built geas',\n",
       " \"as orbit-dev wasn't on this machine\",\n",
       " 'heh',\n",
       " \"jamest: see?   I told you it was your fault - you'll believe me next time  ;)\",\n",
       " \"though it's still partly automake's fault - it ought to have told you that orbit-dev was missing\",\n",
       " 'wild',\n",
       " 'why did it bitch about missing GLIB_LIBS',\n",
       " 'when orbit was the problem',\n",
       " 'i take it autoconf choaked',\n",
       " 'dunno, our automake specialist escaped a long time ago   :)',\n",
       " 'wow, the generated code does cause a lot of warnings eh?',\n",
       " 'lol',\n",
       " \"jamest: well, you'll need to update orbit-idl, I guess   ;)\",\n",
       " 'wow orbit-python 0.3.0 is about uot',\n",
       " 'out',\n",
       " 'woweee zoweee',\n",
       " \"I guess they wern't dead, after all   ;)\",\n",
       " 'we still use orbit-python right?',\n",
       " 'making sure error msgs are up to date',\n",
       " 'well, nothing else seemed to be living and not involve making our own orbit-python replacement   :)',\n",
       " 'cool',\n",
       " 'ok, anyone know anything about this?',\n",
       " 'root@obfuscation:/usr/local/src/scoop/scripts# /etc/init.d/mysql restart',\n",
       " 'Stopping MySQL database server: mysqlderror: Found option without preceding group in config file: /root/.my.cnf at line: 1',\n",
       " 'Program aborted',\n",
       " '...failed',\n",
       " \"\\tYou don't seem to have the right password in /root/.my.cnf\",\n",
       " 'Killing MySQL database server by signal: mysqld.',\n",
       " 'Starting MySQL database server: mysqld.',\n",
       " 'oh my god!   you killed mysql!',\n",
       " 'what goes in .my.cnf?',\n",
       " 'you can set your password in a file',\n",
       " 'that file',\n",
       " 'how?',\n",
       " \"qhat's the syntax?\",\n",
       " 'in plain text',\n",
       " \"er what's\",\n",
       " \"i don't recall\",\n",
       " 'hey',\n",
       " 'anyone here?',\n",
       " \"where does geas install it's idl\",\n",
       " \"i've lost it\",\n",
       " 'found it',\n",
       " 'little dell has lost his idl',\n",
       " 'anyone object to moving default geas install to /usr/local/gnue',\n",
       " 'um no',\n",
       " 'instead of /usr/local',\n",
       " 'i begged for it :)',\n",
       " 'said shoudl all be in same spot :)',\n",
       " 'and moving geas-server from ($prefix)/bin to ($prefix)/sbin',\n",
       " 'either forms moves back',\n",
       " 'or geas forward :)',\n",
       " 'nope',\n",
       " 'sounds good to me',\n",
       " \"as running it as a user doesn't work \",\n",
       " 'guess we win :)',\n",
       " 'hey!',\n",
       " \"jamest: make sure to check wither orbit-python looks for IDL files, because that's important  :)\",\n",
       " 'chillywilly whats up with those FD crack smokers',\n",
       " 'andrewm: huh?',\n",
       " 'I told them to leave .GNU alone',\n",
       " \"it's a retarded  idea\",\n",
       " 'i love the logic',\n",
       " 'you see',\n",
       " \"jamest: if you're mnoving GEAS around, and put the idl files somewhere odd, you need to make sure orbit-python can still find them\",\n",
       " 'you dont lose freedom cause if you want freedom you can just run it locally',\n",
       " 'um...',\n",
       " 'really',\n",
       " 'otherwise GEAS users will need their IDLPATH set correctly  :)',\n",
       " 'ok so why do i need the ASP if way to get freedom is to run my own copy?',\n",
       " ';)',\n",
       " \"I haven't checked my email lately\",\n",
       " 'i love the logic',\n",
       " 'well im off till later',\n",
       " 'ttfn',\n",
       " 'but what about the move, is every ok w/ it?',\n",
       " 'or is it poor ideal',\n",
       " 'idea',\n",
       " 'lol, I like that - s/w to help trace stolen laptops - out of 25000 users, all three stolen laptops have been recovered - including the one stolen by the employee who claimed the companys laptop was stolen from him   (rather than by him  :)',\n",
       " 'jamest: no!   move GEAS to /usr    :)',\n",
       " 'jamest: you there?',\n",
       " 'yes',\n",
       " \"sklein: he's here, and busy beating up GEAS   :)\",\n",
       " 'did you say the other day that you were going to simplify the gnuef developer install to allow completely staying out of root directories?',\n",
       " 'yes',\n",
       " \"OK, I'll wait for it\",\n",
       " 'sklein: what error is it givin you now',\n",
       " \"it isn't giving me an error\",\n",
       " 'as I think we can do it now',\n",
       " \"it's just not working?\",\n",
       " 'I just looked at setup.py and shyed away from running it until I could edit it to avoid /etc and allow myself to name the dire4ctories',\n",
       " \"ah the setup.py devel doesn't have to do anything as root\",\n",
       " 'in creates symlinks in your dir',\n",
       " 'what I saw talks about going su',\n",
       " 'then you _should_ be able to move the gnue-common/etc/sample.gnue.conf to $HOME/.gnue/gnue.conf',\n",
       " 'yes',\n",
       " 'before it does it, it stops',\n",
       " \"it says basically - if you're lazy run this as root \",\n",
       " \"if you're not hit ctrl-d\",\n",
       " 'all it does as root is create 2 symlinks ',\n",
       " 'ln -s $HOME/cvs/gnue/gnuef/client/gfcvs /usr/local/bin/gfcvs',\n",
       " \"OK, I'll try it and see what happens\",\n",
       " 'you can run it all as yourself',\n",
       " 'as those two links let you run your cvs copy from anywhere',\n",
       " 'otherwise you have to cd $HOME/cvs/gnue/gnuef/client and run like',\n",
       " './gfcvs ../samples/zipcode/zipcode.gfd',\n",
       " 'how does it know where the cvs root is?',\n",
       " 'you must run the setup.py from the top level of the cvs root',\n",
       " \"it's really a pretty dumb script \",\n",
       " 'er, top of gnuef cvs root',\n",
       " 'top of gnuef cvs root or gnue cvs root?',\n",
       " 'more of a hackers convenience than anything',\n",
       " 'gnuef',\n",
       " 'i run like',\n",
       " './setup.py devel',\n",
       " 'from $HOME/cvs/gnue/gnuef',\n",
       " 'and the same thing in ',\n",
       " 'OK I think I have it',\n",
       " 'thanks',\n",
       " '$HOME/cvs/gnue/gnue-common',\n",
       " 'sure, no problem',\n",
       " \"wow, I'm running geas as non root\",\n",
       " 'andrewm: you missed a comment I made after you left.  I said that neilt was looking at requirements, I was looking at potential user policies, and you were looking at the current geas implementation',\n",
       " 'I think we were talking past each other',\n",
       " 'sklein: er, as the only thing to be said about security as implemented in GEAS is \"there is none\" I\\'m not sure why I was tlaking about that  :)',\n",
       " \"sklein: he's not lying there \",\n",
       " 'nope',\n",
       " 'sklein: I also still think that neither administrators nor users should have to care about where data is stored (ie, each user should have one login to the GEAS system) although of course when setting up a new GEAS server the server has to be secure on the particular machine  (how to do that is another question)',\n",
       " \"but anyway, I'll let you argue about this with other people  :)\",\n",
       " 'we have to find a way to get security in _somewhere_ _somehow_',\n",
       " 'sklein: that much I can agree with   :)',\n",
       " 'yes',\n",
       " 'I agree one login is an important goal',\n",
       " 'anyone remember that ghand quote?',\n",
       " 'firt they ignore you, thwen they laugh at you then they fight you, then they fight you, then you win',\n",
       " 'hmmmm',\n",
       " 'chillywilly: \"I\\'ll have a big mac, but please don\\'t tell anyone\"  ?   :)',\n",
       " 'is that it?',\n",
       " 'geas driver is giving me fits',\n",
       " 'chillywilly: so bozo the clown is well on the way to becoming the ruler of the world?   ;)',\n",
       " \"me?  difficult?   that just couldn't be   :)\",\n",
       " 'well, some of the brightest folks are the most difficult (a backhanded compliment) :)',\n",
       " 'lol',\n",
       " 'chillywilly: something like that I think',\n",
       " 'chillywilly: I think you have an extra \"then they fight you\"',\n",
       " 'whoo hooo',\n",
       " \"sklein: well, if you're fighting and losing, you need to fight some mnore  (though apparantly all the extra fighting didn't help  :)\",\n",
       " \"I'll have to look at my email archive\",\n",
       " \"what's the saying?  If you've gotten yourself into a hole, first stop digging\",\n",
       " '\"In his last performance review, I stated he had reached rock bottom. This year, he\\'s been digging.\"   :)',\n",
       " \"andrewm:  BTW the bozo's run the world\",\n",
       " ':)',\n",
       " 'andrewm: did you write the user maintenance form for geas in gnuef?',\n",
       " \"they just don't dress up in clown suits\",\n",
       " 'jamest: er, only if it works  :)',\n",
       " 'no, it does',\n",
       " 'not',\n",
       " 'work',\n",
       " 'sklein: :)',\n",
       " \"jamest: well, it worked for me, so someone else must have broke something  ;)    it's also old, so all the changes to forms may have done bad stuff to it\",\n",
       " 'the geeks will have their day',\n",
       " '\"Blessed are the meek, for they shall inherit the earth. And what have the poor buggers done to deserve _that_?\"  :)',\n",
       " \"jamest:  I ran setup in gnuef but the one in gnue-common doesn't have the devel option\",\n",
       " 'do I need to do a cvs update to get it?',\n",
       " 'oh crud',\n",
       " 'I had a brain fast',\n",
       " 'that was designer',\n",
       " 'the gnuef setup.py devel should be all you need to run',\n",
       " 'ah, joy',\n",
       " 'jcater: bwahahahahaha',\n",
       " 'uh, oh',\n",
       " 'would you like me to flood you with designer bugs now or later',\n",
       " 'um',\n",
       " 'I think flooding is not a good idea',\n",
       " 'jcater: want me to sell you a hacksaw for the chains?',\n",
       " 'andrewm: yes, please',\n",
       " 'andrewm: masta switched to industrial adhesive',\n",
       " \"a blow torch'll be fine...\",\n",
       " 'slathered down the back, butt, and legs',\n",
       " 'never mind... acetone will work for that',\n",
       " 'much harder to escape from']"
      ]
     },
     "execution_count": 7,
     "metadata": {},
     "output_type": "execute_result"
    }
   ],
   "source": [
    "small = df['line_message'][:390].to_list()\n",
    "small"
   ]
  },
  {
   "cell_type": "code",
   "execution_count": 8,
   "metadata": {},
   "outputs": [
    {
     "data": {
      "text/plain": [
       "(390, 768)"
      ]
     },
     "execution_count": 8,
     "metadata": {},
     "output_type": "execute_result"
    }
   ],
   "source": [
    "model = SentenceTransformer('bert-base-nli-mean-tokens')\n",
    "sentence_embeddings = model.encode(small)\n",
    "sentence_embeddings.shape"
   ]
  },
  {
   "cell_type": "code",
   "execution_count": 9,
   "metadata": {},
   "outputs": [
    {
     "data": {
      "text/plain": [
       "array([[ 0.0162252 , -0.44534183,  3.056395  , ..., -0.8601831 ,\n",
       "        -0.19799072, -0.14249888],\n",
       "       [ 0.17303751, -0.5800499 ,  2.513252  , ..., -0.99075675,\n",
       "        -0.24516724, -0.16175953],\n",
       "       [-0.02583414, -0.5347643 ,  2.0662234 , ..., -0.8746693 ,\n",
       "         1.1000949 ,  0.19394492],\n",
       "       ...,\n",
       "       [ 0.19004726, -0.00930948,  0.9470397 , ...,  0.10992029,\n",
       "         0.8386087 ,  0.18612799],\n",
       "       [ 0.38973647,  0.42429236,  2.1174006 , ...,  0.342076  ,\n",
       "        -0.3939347 ,  0.08969497],\n",
       "       [-0.12694564, -0.12167815,  1.0466301 , ..., -0.64359504,\n",
       "        -0.35453606, -0.03942579]], dtype=float32)"
      ]
     },
     "execution_count": 9,
     "metadata": {},
     "output_type": "execute_result"
    }
   ],
   "source": [
    "sentence_embeddings"
   ]
  },
  {
   "cell_type": "code",
   "execution_count": 10,
   "metadata": {},
   "outputs": [],
   "source": [
    "# initialize index flat L2 (exhaustive search)\n",
    "# no groupings or transformations needed, so no training\n",
    "d = sentence_embeddings.shape[1]\n",
    "index = faiss.IndexFlatL2(d)"
   ]
  },
  {
   "cell_type": "code",
   "execution_count": 11,
   "metadata": {},
   "outputs": [
    {
     "data": {
      "text/plain": [
       "768"
      ]
     },
     "execution_count": 11,
     "metadata": {},
     "output_type": "execute_result"
    }
   ],
   "source": [
    "d"
   ]
  },
  {
   "cell_type": "code",
   "execution_count": 12,
   "metadata": {},
   "outputs": [
    {
     "data": {
      "text/plain": [
       "True"
      ]
     },
     "execution_count": 12,
     "metadata": {},
     "output_type": "execute_result"
    }
   ],
   "source": [
    "# check whether index requires training\n",
    "index.is_trained"
   ]
  },
  {
   "cell_type": "code",
   "execution_count": 13,
   "metadata": {},
   "outputs": [],
   "source": [
    "index.add(sentence_embeddings)"
   ]
  },
  {
   "cell_type": "code",
   "execution_count": 14,
   "metadata": {},
   "outputs": [
    {
     "data": {
      "text/plain": [
       "390"
      ]
     },
     "execution_count": 14,
     "metadata": {},
     "output_type": "execute_result"
    }
   ],
   "source": [
    "index.ntotal"
   ]
  },
  {
   "cell_type": "code",
   "execution_count": 15,
   "metadata": {},
   "outputs": [],
   "source": [
    "# search given a query and number of nearest neighbors to return k\n",
    "k = 5\n",
    "xq = model.encode([\"work today\"])"
   ]
  },
  {
   "cell_type": "code",
   "execution_count": 16,
   "metadata": {},
   "outputs": [
    {
     "name": "stdout",
     "output_type": "stream",
     "text": [
      "CPU times: user 4 µs, sys: 1 µs, total: 5 µs\n",
      "Wall time: 42.9 µs\n",
      "[[147 366   2 154   1]]\n"
     ]
    }
   ],
   "source": [
    "%time\n",
    "# do search\n",
    "D, I = index.search(xq,k)\n",
    "print(I)"
   ]
  },
  {
   "cell_type": "code",
   "execution_count": 1,
   "metadata": {},
   "outputs": [
    {
     "ename": "NameError",
     "evalue": "name 'D' is not defined",
     "output_type": "error",
     "traceback": [
      "\u001b[0;31m---------------------------------------------------------------------------\u001b[0m",
      "\u001b[0;31mNameError\u001b[0m                                 Traceback (most recent call last)",
      "\u001b[0;32m/var/folders/d8/_bqxk8494s7c38q0_sr91y9r0000gn/T/ipykernel_1070/507153864.py\u001b[0m in \u001b[0;36m<module>\u001b[0;34m\u001b[0m\n\u001b[0;32m----> 1\u001b[0;31m \u001b[0mprint\u001b[0m\u001b[0;34m(\u001b[0m\u001b[0mD\u001b[0m\u001b[0;34m)\u001b[0m\u001b[0;34m\u001b[0m\u001b[0;34m\u001b[0m\u001b[0m\n\u001b[0m",
      "\u001b[0;31mNameError\u001b[0m: name 'D' is not defined"
     ]
    }
   ],
   "source": [
    "print(D)"
   ]
  },
  {
   "cell_type": "code",
   "execution_count": 15,
   "metadata": {},
   "outputs": [
    {
     "data": {
      "text/plain": [
       "2                        so its today or not this week\n",
       "1    anyway i'm off to do real work for a couple of...\n",
       "0    one of these days soon I need to see what geas...\n",
       "6                                  I'm doing real work\n",
       "4                              oh, guess its not today\n",
       "Name: line_message, dtype: object"
      ]
     },
     "execution_count": 15,
     "metadata": {},
     "output_type": "execute_result"
    }
   ],
   "source": [
    "# out of 20 documents, 4 are retrieved\n",
    "large.iloc[[2,1,0,6,4]]"
   ]
  },
  {
   "cell_type": "markdown",
   "metadata": {},
   "source": [
    "## Approximate search: partitioning the index"
   ]
  },
  {
   "cell_type": "markdown",
   "metadata": {},
   "source": [
    "- this is a way to optimize search.\n",
    "<br>\n",
    "- this way basically partitions the indexes into Voroni cells.\n",
    "<br>\n",
    "- **we use this method to reduce the scope of our search**"
   ]
  },
  {
   "cell_type": "code",
   "execution_count": 16,
   "metadata": {},
   "outputs": [],
   "source": [
    "nlist = 10 # how many cells/partitions\n",
    "quantizer = faiss.IndexFlatL2(d)\n",
    "index = faiss.IndexIVFFlat(quantizer, d, nlist) # clustering"
   ]
  },
  {
   "cell_type": "code",
   "execution_count": 17,
   "metadata": {},
   "outputs": [
    {
     "data": {
      "text/plain": [
       "False"
      ]
     },
     "execution_count": 17,
     "metadata": {},
     "output_type": "execute_result"
    }
   ],
   "source": [
    "index.is_trained"
   ]
  },
  {
   "cell_type": "code",
   "execution_count": 18,
   "metadata": {},
   "outputs": [
    {
     "data": {
      "text/plain": [
       "True"
      ]
     },
     "execution_count": 18,
     "metadata": {},
     "output_type": "execute_result"
    }
   ],
   "source": [
    "# train index on our data before adding any data to the index\n",
    "# requires at least 390 training points\n",
    "index.train(sentence_embeddings)\n",
    "index.is_trained"
   ]
  },
  {
   "cell_type": "code",
   "execution_count": 19,
   "metadata": {},
   "outputs": [
    {
     "data": {
      "text/plain": [
       "390"
      ]
     },
     "execution_count": 19,
     "metadata": {},
     "output_type": "execute_result"
    }
   ],
   "source": [
    "# add data to index\n",
    "index.add(sentence_embeddings)\n",
    "index.ntotal"
   ]
  },
  {
   "cell_type": "code",
   "execution_count": 20,
   "metadata": {},
   "outputs": [
    {
     "name": "stdout",
     "output_type": "stream",
     "text": [
      "CPU times: user 4 µs, sys: 2 µs, total: 6 µs\n",
      "Wall time: 11.9 µs\n",
      "[[  2   1 369   6 341]]\n"
     ]
    }
   ],
   "source": [
    "%time\n",
    "D, I = index.search(xq, k)\n",
    "print(I)"
   ]
  },
  {
   "cell_type": "markdown",
   "metadata": {},
   "source": [
    "## Improve search accuracy"
   ]
  },
  {
   "cell_type": "markdown",
   "metadata": {},
   "source": [
    "- improve search accuracy by increasing the number of probes: how many nearby cells to search for"
   ]
  },
  {
   "cell_type": "code",
   "execution_count": 21,
   "metadata": {},
   "outputs": [],
   "source": [
    "index.nprobe = 10"
   ]
  },
  {
   "cell_type": "code",
   "execution_count": 22,
   "metadata": {},
   "outputs": [
    {
     "name": "stdout",
     "output_type": "stream",
     "text": [
      "CPU times: user 3 µs, sys: 1e+03 ns, total: 4 µs\n",
      "Wall time: 7.39 µs\n",
      "[[147 366   2 154   1]]\n"
     ]
    }
   ],
   "source": [
    "%time\n",
    "D, I = index.search(xq,k)\n",
    "print(I)"
   ]
  },
  {
   "cell_type": "markdown",
   "metadata": {},
   "source": [
    "## Vector Reconstruction"
   ]
  },
  {
   "cell_type": "code",
   "execution_count": null,
   "metadata": {},
   "outputs": [],
   "source": []
  },
  {
   "cell_type": "markdown",
   "metadata": {},
   "source": [
    "## Index Quantization"
   ]
  },
  {
   "cell_type": "markdown",
   "metadata": {},
   "source": [
    "- we use quantization to reduce full vector size\n",
    "<br>\n",
    "- one way to compress our vectors using product quantization (PQ)\n",
    "- steps: (1) split into subvectors (2) cluster (3) compose ID centroid vectors"
   ]
  },
  {
   "cell_type": "code",
   "execution_count": 24,
   "metadata": {},
   "outputs": [],
   "source": [
    "m = 8 # number of centroid IDs in final compressed vectors\n",
    "bits = 8 # number of bits in each centroid (m==bits)\n",
    "quantizer = faiss.IndexFlatL2(d)\n",
    "index = faiss.IndexIVFPQ(quantizer, d, nlist, m, bits)"
   ]
  },
  {
   "cell_type": "code",
   "execution_count": 25,
   "metadata": {},
   "outputs": [
    {
     "data": {
      "text/plain": [
       "False"
      ]
     },
     "execution_count": 25,
     "metadata": {},
     "output_type": "execute_result"
    }
   ],
   "source": [
    "index.is_trained"
   ]
  },
  {
   "cell_type": "code",
   "execution_count": 26,
   "metadata": {},
   "outputs": [
    {
     "name": "stderr",
     "output_type": "stream",
     "text": [
      "WARNING clustering 390 points to 256 centroids: please provide at least 9984 training points\n",
      "WARNING clustering 390 points to 256 centroids: please provide at least 9984 training points\n",
      "WARNING clustering 390 points to 256 centroids: please provide at least 9984 training points\n",
      "WARNING clustering 390 points to 256 centroids: please provide at least 9984 training points\n",
      "WARNING clustering 390 points to 256 centroids: please provide at least 9984 training points\n",
      "WARNING clustering 390 points to 256 centroids: please provide at least 9984 training points\n",
      "WARNING clustering 390 points to 256 centroids: please provide at least 9984 training points\n",
      "WARNING clustering 390 points to 256 centroids: please provide at least 9984 training points\n"
     ]
    }
   ],
   "source": [
    "index.train(sentence_embeddings)"
   ]
  },
  {
   "cell_type": "code",
   "execution_count": null,
   "metadata": {},
   "outputs": [],
   "source": [
    "index.add(sentence_embeddings)"
   ]
  },
  {
   "cell_type": "code",
   "execution_count": null,
   "metadata": {},
   "outputs": [],
   "source": [
    "index.nprobe=10"
   ]
  },
  {
   "cell_type": "code",
   "execution_count": null,
   "metadata": {},
   "outputs": [],
   "source": [
    "%time\n",
    "D, I = index.search(xq,k)\n",
    "print(I)"
   ]
  }
 ],
 "metadata": {
  "kernelspec": {
   "display_name": "torchnlp",
   "language": "python",
   "name": "torchnlp"
  },
  "language_info": {
   "codemirror_mode": {
    "name": "ipython",
    "version": 3
   },
   "file_extension": ".py",
   "mimetype": "text/x-python",
   "name": "python",
   "nbconvert_exporter": "python",
   "pygments_lexer": "ipython3",
   "version": "3.7.2"
  }
 },
 "nbformat": 4,
 "nbformat_minor": 4
}
