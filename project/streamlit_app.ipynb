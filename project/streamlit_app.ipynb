{
 "cells": [
  {
   "cell_type": "code",
   "execution_count": 1,
   "metadata": {},
   "outputs": [],
   "source": [
    "import streamlit as st"
   ]
  },
  {
   "cell_type": "code",
   "execution_count": 3,
   "metadata": {},
   "outputs": [
    {
     "name": "stderr",
     "output_type": "stream",
     "text": [
      "2021-08-18 14:57:45.929 \n",
      "  \u001b[33m\u001b[1mWarning:\u001b[0m to view this Streamlit app on a browser, run it with the following\n",
      "  command:\n",
      "\n",
      "    streamlit run /Users/chunghaoku/torchnlp/lib/python3.7/site-packages/ipykernel_launcher.py [ARGUMENTS]\n"
     ]
    }
   ],
   "source": [
    "filter_year = st.sidebar.slider('dates',2001,2006,(2001,2006),1)"
   ]
  },
  {
   "cell_type": "code",
   "execution_count": 2,
   "metadata": {},
   "outputs": [
    {
     "ename": "IndentationError",
     "evalue": "expected an indented block (2259391913.py, line 14)",
     "output_type": "error",
     "traceback": [
      "\u001b[0;36m  File \u001b[0;32m\"/var/folders/d8/_bqxk8494s7c38q0_sr91y9r0000gn/T/ipykernel_76726/2259391913.py\"\u001b[0;36m, line \u001b[0;32m14\u001b[0m\n\u001b[0;31m    def main():\u001b[0m\n\u001b[0m      ^\u001b[0m\n\u001b[0;31mIndentationError\u001b[0m\u001b[0;31m:\u001b[0m expected an indented block\n"
     ]
    }
   ],
   "source": [
    "@st.cache\n",
    "def read_data(data=...):\n",
    "    return pd.read_csv(data)\n",
    "\n",
    "@st.cache(allow_output_mutation=True)\n",
    "def load_model():\n",
    "    return\n",
    "\n",
    "@st.cache(allow_output_mutation=True)\n",
    "\n",
    "# load saved pickle file\n",
    "def load_faiss_index(path_to_faiss=...):\n",
    "    with open(path_to_faiss, \"rb\") as h:\n",
    "        data = pickle.load(h)\n",
    "    return faiss.deserialize_index(data)\n",
    "\n",
    "\n",
    "# main contains code for streeamlit UI\n",
    "def main():\n",
    "    data = read_data()\n",
    "    model = load_model()\n",
    "    faiss_index = load_faiss_index()\n",
    "    \n",
    "if __name__ == \"__main__\":\n",
    "    maint()"
   ]
  },
  {
   "cell_type": "code",
   "execution_count": null,
   "metadata": {},
   "outputs": [],
   "source": []
  }
 ],
 "metadata": {
  "kernelspec": {
   "display_name": "torchnlp",
   "language": "python",
   "name": "torchnlp"
  },
  "language_info": {
   "codemirror_mode": {
    "name": "ipython",
    "version": 3
   },
   "file_extension": ".py",
   "mimetype": "text/x-python",
   "name": "python",
   "nbconvert_exporter": "python",
   "pygments_lexer": "ipython3",
   "version": "3.7.2"
  }
 },
 "nbformat": 4,
 "nbformat_minor": 4
}
